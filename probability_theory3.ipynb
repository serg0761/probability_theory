{
 "cells": [
  {
   "cell_type": "code",
   "execution_count": 11,
   "metadata": {},
   "outputs": [],
   "source": [
    "import pandas as pd\n",
    "import numpy as np\n",
    "from math import factorial as fl"
   ]
  },
  {
   "cell_type": "markdown",
   "metadata": {},
   "source": [
    "Даны значения зарплат из выборки выпускников: 100, 80, 75, 77, 89, 33, 45, 25, 65, 17, 30, 24, 57, 55, 70, 75, 65, 84, 90, 150. Посчитать (желательно без использования статистических методов наподобие std, var, mean) среднее арифметическое, среднее квадратичное отклонение, смещенную и несмещенную оценки дисперсий для данной выборки."
   ]
  },
  {
   "cell_type": "code",
   "execution_count": 3,
   "metadata": {},
   "outputs": [],
   "source": [
    "data = pd.Series([100, 80, 75, 77, 89, 33, 45, 25, 65, 17, 30, 24, 57, 55, 70, 75, 65, 84, 90, 150])\n"
   ]
  },
  {
   "cell_type": "code",
   "execution_count": 4,
   "metadata": {},
   "outputs": [
    {
     "data": {
      "text/plain": [
       "65.3"
      ]
     },
     "execution_count": 4,
     "metadata": {},
     "output_type": "execute_result"
    }
   ],
   "source": [
    "ME = data.sum() / data.count()\n",
    "ME"
   ]
  },
  {
   "cell_type": "code",
   "execution_count": 6,
   "metadata": {},
   "outputs": [
    {
     "data": {
      "text/plain": [
       "30.823854398825596"
      ]
     },
     "execution_count": 6,
     "metadata": {},
     "output_type": "execute_result"
    }
   ],
   "source": [
    "SD = np.sqrt(((data - ME) ** 2).sum() / data.count())\n",
    "SD"
   ]
  },
  {
   "cell_type": "code",
   "execution_count": 8,
   "metadata": {},
   "outputs": [
    {
     "data": {
      "text/plain": [
       "950.11"
      ]
     },
     "execution_count": 8,
     "metadata": {},
     "output_type": "execute_result"
    }
   ],
   "source": [
    "variance = ((data - ME) ** 2).sum() / data.count()\n",
    "variance"
   ]
  },
  {
   "cell_type": "code",
   "execution_count": 10,
   "metadata": {},
   "outputs": [
    {
     "data": {
      "text/plain": [
       "1000.1157894736842"
      ]
     },
     "execution_count": 10,
     "metadata": {},
     "output_type": "execute_result"
    }
   ],
   "source": [
    "variance2 = ((data - ME) ** 2).sum() / (data.count() - 1)\n",
    "variance2"
   ]
  },
  {
   "cell_type": "markdown",
   "metadata": {},
   "source": [
    "В первом ящике находится 8 мячей, из которых 5 - белые. Во втором ящике - 12 мячей, из которых 5 белых. Из первого ящика вытаскивают случайным образом два мяча, из второго - 4. Какова вероятность того, что 3 мяча белые?"
   ]
  },
  {
   "cell_type": "markdown",
   "metadata": {},
   "source": [
    "А11 - из первого ящика вынули два белых мяча\n",
    "\n",
    "А12 - из второго ящика вынули один белый мяч\n",
    "\n",
    "А21 - из первого ящика вынули один белый мяч\n",
    "\n",
    "А22 - из второго ящика вынули два белых мяча\n",
    "\n",
    "А31 - из первого ящика вынули ноль белых мячей\n",
    "\n",
    "А32 - из второго ящика вынули три белых мяча\n",
    "\n",
    "А - из ящиков вынули три белых мяча\n",
    "\n",
    "А = А11* А12 + А21* А22 + А31* А32\n"
   ]
  },
  {
   "cell_type": "code",
   "execution_count": 13,
   "metadata": {},
   "outputs": [],
   "source": [
    "PA11 = (fl(5) / (fl(2) * fl(5 - 2))) * (fl(3) / (fl(0) * fl(3 - 0))) / (fl(8) / (fl(2) * fl(8 - 2)))\n",
    "PA12 = (fl(5) / (fl(1) * fl(5 - 1))) * (fl(7) / (fl(3) * fl(7 - 3))) / (fl(12) / (fl(4) * fl(12 - 4)))\n",
    "PA21 = (fl(5) / (fl(1) * fl(5 - 1))) * (fl(3) / (fl(1) * fl(3 - 1))) / (fl(8) / (fl(2) * fl(8 - 2)))\n",
    "PА22 = (fl(5) / (fl(2) * fl(5 - 2))) * (fl(7) / (fl(2) * fl(7 - 2))) / (fl(12) / (fl(4) * fl(12 - 4)))\n",
    "PA31 = (fl(5) / (fl(0) * fl(5 - 0))) * (fl(3) / (fl(2) * fl(3 - 2))) / (fl(8) / (fl(2) * fl(8 - 2)))\n",
    "PA32 = (fl(5) / (fl(3) * fl(5 - 3))) * (fl(7) / (fl(1) * fl(7 - 1))) / (fl(12) / (fl(4) * fl(12 - 4)))"
   ]
  },
  {
   "cell_type": "code",
   "execution_count": 15,
   "metadata": {},
   "outputs": [
    {
     "data": {
      "text/plain": [
       "0.3686868686868687"
      ]
     },
     "execution_count": 15,
     "metadata": {},
     "output_type": "execute_result"
    }
   ],
   "source": [
    "PA = PA11 * PA12 + PA21 * PА22 + PA31 * PA32\n",
    "PA"
   ]
  },
  {
   "cell_type": "markdown",
   "metadata": {},
   "source": [
    "На соревновании по биатлону один из трех спортсменов стреляет и попадает в мишень. Вероятность попадания для первого спортсмена равна 0.9, для второго — 0.8, для третьего — 0.6. Найти вероятность того, что выстрел произведен: a). первым спортсменом б). вторым спортсменом в). третьим спортсменом."
   ]
  },
  {
   "cell_type": "markdown",
   "metadata": {},
   "source": [
    "А - мишень поражена\n",
    "\n",
    "А1 - первый стрелок попал в цель\n",
    "\n",
    "А2 - второй стрелок попал в цель\n",
    "\n",
    "А3 - третий стрелок попал в цель"
   ]
  },
  {
   "cell_type": "code",
   "execution_count": 16,
   "metadata": {},
   "outputs": [
    {
     "data": {
      "text/plain": [
       "0.7666666666666666"
      ]
     },
     "execution_count": 16,
     "metadata": {},
     "output_type": "execute_result"
    }
   ],
   "source": [
    "PA = 1 / 3 * 0.9 + 1 / 3 * 0.8 + 1 / 3 * 0.6\n",
    "PA"
   ]
  },
  {
   "cell_type": "code",
   "execution_count": 17,
   "metadata": {},
   "outputs": [
    {
     "data": {
      "text/plain": [
       "0.391304347826087"
      ]
     },
     "execution_count": 17,
     "metadata": {},
     "output_type": "execute_result"
    }
   ],
   "source": [
    "PA1 = 1 / 3 * 0.9 / PA\n",
    "PA1"
   ]
  },
  {
   "cell_type": "code",
   "execution_count": 18,
   "metadata": {},
   "outputs": [
    {
     "data": {
      "text/plain": [
       "0.3478260869565218"
      ]
     },
     "execution_count": 18,
     "metadata": {},
     "output_type": "execute_result"
    }
   ],
   "source": [
    "PA2 = 1 / 3 * 0.8 / PA\n",
    "PA2"
   ]
  },
  {
   "cell_type": "code",
   "execution_count": 19,
   "metadata": {},
   "outputs": [
    {
     "data": {
      "text/plain": [
       "0.2608695652173913"
      ]
     },
     "execution_count": 19,
     "metadata": {},
     "output_type": "execute_result"
    }
   ],
   "source": [
    "PA3 = 1 / 3 * 0.6 / PA\n",
    "PA3"
   ]
  },
  {
   "cell_type": "markdown",
   "metadata": {},
   "source": [
    "В университет на факультеты A и B поступило равное количество студентов, а на факультет C студентов поступило столько же, сколько на A и B вместе. Вероятность того, что студент факультета A сдаст первую сессию, равна 0.8. Для студента факультета B эта вероятность равна 0.7, а для студента факультета C - 0.9. Студент сдал первую сессию. Какова вероятность, что он учится: a). на факультете A б). на факультете B в). на факультете C?"
   ]
  },
  {
   "cell_type": "markdown",
   "metadata": {},
   "source": [
    "А - Студент сдал первую сессию\n",
    "\n",
    "А1 - студент с факультета А\n",
    "\n",
    "А2 - студент с факультета В\n",
    "\n",
    "А3 - студент с факультета С"
   ]
  },
  {
   "cell_type": "code",
   "execution_count": 24,
   "metadata": {},
   "outputs": [
    {
     "data": {
      "text/plain": [
       "0.825"
      ]
     },
     "execution_count": 24,
     "metadata": {},
     "output_type": "execute_result"
    }
   ],
   "source": [
    "PA = 1 / 4 * 0.8 + 1 / 4 * 0.7 + 2 / 4 * 0.9\n",
    "PA"
   ]
  },
  {
   "cell_type": "code",
   "execution_count": 25,
   "metadata": {},
   "outputs": [
    {
     "data": {
      "text/plain": [
       "0.24242424242424246"
      ]
     },
     "execution_count": 25,
     "metadata": {},
     "output_type": "execute_result"
    }
   ],
   "source": [
    "PA1 = 1 / 4 * 0.8 / PA\n",
    "PA1"
   ]
  },
  {
   "cell_type": "code",
   "execution_count": 26,
   "metadata": {},
   "outputs": [
    {
     "data": {
      "text/plain": [
       "0.21212121212121213"
      ]
     },
     "execution_count": 26,
     "metadata": {},
     "output_type": "execute_result"
    }
   ],
   "source": [
    "PA2 = 1 / 4 * 0.7 / PA\n",
    "PA2"
   ]
  },
  {
   "cell_type": "code",
   "execution_count": 27,
   "metadata": {},
   "outputs": [
    {
     "data": {
      "text/plain": [
       "0.5454545454545455"
      ]
     },
     "execution_count": 27,
     "metadata": {},
     "output_type": "execute_result"
    }
   ],
   "source": [
    "PA3 = 2 / 4 * 0.9 / PA\n",
    "PA3"
   ]
  },
  {
   "cell_type": "markdown",
   "metadata": {},
   "source": [
    "Устройство состоит из трех деталей. Для первой детали вероятность выйти из строя в первый месяц равна 0.1, для второй - 0.2, для третьей - 0.25. Какова вероятность того, что в первый месяц выйдут из строя: а). все детали б). только две детали в). хотя бы одна деталь г). от одной до двух деталей?"
   ]
  },
  {
   "cell_type": "markdown",
   "metadata": {},
   "source": [
    "А - из строя вышли все детали"
   ]
  },
  {
   "cell_type": "code",
   "execution_count": 28,
   "metadata": {},
   "outputs": [
    {
     "data": {
      "text/plain": [
       "0.005000000000000001"
      ]
     },
     "execution_count": 28,
     "metadata": {},
     "output_type": "execute_result"
    }
   ],
   "source": [
    "PA = 0.1 * 0.2 * 0.25\n",
    "PA"
   ]
  },
  {
   "cell_type": "markdown",
   "metadata": {},
   "source": [
    "B1 - из строя вышли первая и вторая деталь, но не вышла третья\n",
    "\n",
    "B2 - из строя вышла первая и третья деталь, но не вышла вторая\n",
    "\n",
    "B3 - из строя вышла вторая и третья деталь, но не вышла первая\n",
    "\n",
    "В = B1 + B2 + B3 -  из строя вышло только две детали"
   ]
  },
  {
   "cell_type": "code",
   "execution_count": 33,
   "metadata": {},
   "outputs": [
    {
     "data": {
      "text/plain": [
       "0.08000000000000002"
      ]
     },
     "execution_count": 33,
     "metadata": {},
     "output_type": "execute_result"
    }
   ],
   "source": [
    "PB = 0.1 * 0.2 * 0.75 + 0.1 * 0.8 * 0.25 + 0.9 * 0.2 * 0.25\n",
    "PB"
   ]
  },
  {
   "cell_type": "markdown",
   "metadata": {},
   "source": [
    "C - из строя вышла хотя бы одна деталь"
   ]
  },
  {
   "cell_type": "code",
   "execution_count": 30,
   "metadata": {},
   "outputs": [
    {
     "data": {
      "text/plain": [
       "0.45999999999999996"
      ]
     },
     "execution_count": 30,
     "metadata": {},
     "output_type": "execute_result"
    }
   ],
   "source": [
    "PC = 1 - 0.9 * 0.8 * 0.75\n",
    "PC"
   ]
  },
  {
   "cell_type": "markdown",
   "metadata": {},
   "source": [
    "D1 - из строя вышла первая деталь\n",
    "\n",
    "D2 - из строя вышла вторая деталь\n",
    "\n",
    "D3 - из строя вышла третья деталь\n",
    "\n",
    "D - из строя вышла одна деталь\n",
    "\n",
    "Е = В + D - из строя вышло от одной до двух деталей"
   ]
  },
  {
   "cell_type": "code",
   "execution_count": 31,
   "metadata": {},
   "outputs": [
    {
     "data": {
      "text/plain": [
       "0.08"
      ]
     },
     "execution_count": 31,
     "metadata": {},
     "output_type": "execute_result"
    }
   ],
   "source": [
    "PD = 0.9 * 0.2 * 0.25 + 0.1 * 0.8 * 0.25 + 0.1 * 0.2 * 0.75\n",
    "PD"
   ]
  },
  {
   "cell_type": "code",
   "execution_count": 32,
   "metadata": {},
   "outputs": [
    {
     "ename": "NameError",
     "evalue": "name 'PB' is not defined",
     "output_type": "error",
     "traceback": [
      "\u001b[1;31m---------------------------------------------------------------------------\u001b[0m",
      "\u001b[1;31mNameError\u001b[0m                                 Traceback (most recent call last)",
      "\u001b[1;32m<ipython-input-32-29175d9fc102>\u001b[0m in \u001b[0;36m<module>\u001b[1;34m\u001b[0m\n\u001b[1;32m----> 1\u001b[1;33m \u001b[0mPE\u001b[0m \u001b[1;33m=\u001b[0m \u001b[0mPB\u001b[0m \u001b[1;33m+\u001b[0m \u001b[0mPD\u001b[0m\u001b[1;33m\u001b[0m\u001b[1;33m\u001b[0m\u001b[0m\n\u001b[0m",
      "\u001b[1;31mNameError\u001b[0m: name 'PB' is not defined"
     ]
    }
   ],
   "source": [
    "PE = PB + PD\n",
    "PE"
   ]
  },
  {
   "cell_type": "code",
   "execution_count": null,
   "metadata": {},
   "outputs": [],
   "source": []
  }
 ],
 "metadata": {
  "kernelspec": {
   "display_name": "Python 3",
   "language": "python",
   "name": "python3"
  },
  "language_info": {
   "codemirror_mode": {
    "name": "ipython",
    "version": 3
   },
   "file_extension": ".py",
   "mimetype": "text/x-python",
   "name": "python",
   "nbconvert_exporter": "python",
   "pygments_lexer": "ipython3",
   "version": "3.7.1"
  }
 },
 "nbformat": 4,
 "nbformat_minor": 2
}
