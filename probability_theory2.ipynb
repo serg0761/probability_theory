{
 "cells": [
  {
   "cell_type": "code",
   "execution_count": 2,
   "metadata": {},
   "outputs": [],
   "source": [
    "import pandas as pd\n",
    "import numpy as np\n",
    "from math import factorial as fl"
   ]
  },
  {
   "cell_type": "markdown",
   "metadata": {},
   "source": [
    "1. Вероятность того, что стрелок попадет в мишень, выстрелив один раз, равна 0.8. Стрелок выстрелил 100 раз. Найдите вероятность того, что стрелок попадет в цель ровно 85 раз."
   ]
  },
  {
   "cell_type": "markdown",
   "metadata": {},
   "source": [
    "$$P_n(X=k) = C_n^k p^k q^{n-k}$$"
   ]
  },
  {
   "cell_type": "markdown",
   "metadata": {},
   "source": [
    "Используем биноминальное распределение с параметрами:\n",
    "    \n",
    "    - k = 85\n",
    "    \n",
    "    - n = 100\n",
    "    \n",
    "    - p = 0.8\n",
    "    \n",
    "    - q = 1 - p = 1 - 0.8 = 0.2"
   ]
  },
  {
   "cell_type": "markdown",
   "metadata": {},
   "source": [
    "$P_{100}(X=85) = C_{100}^{85} {0.8}^{85} {0.2}^{100-85} = $"
   ]
  },
  {
   "cell_type": "code",
   "execution_count": 30,
   "metadata": {},
   "outputs": [
    {
     "name": "stdout",
     "output_type": "stream",
     "text": [
      "Вероятность того, что стрелок из ста выстрелов попадет в мишень ровно 85 раз = 0.0481\n"
     ]
    }
   ],
   "source": [
    "P100 = (fl(100) / (fl(85) * fl(100 - 85))) * 0.8 ** 85 * 0.2 ** (100 - 85)\n",
    "print(f'Вероятность того, что стрелок из ста выстрелов попадет в мишень ровно 85 раз = {P100 :.4f}')"
   ]
  },
  {
   "cell_type": "markdown",
   "metadata": {},
   "source": [
    "2. Вероятность того, что лампочка перегорит в течение первого дня эксплуатации, равна 0.0004. В жилом комплексе после ремонта в один день включили 5000 новых лампочек. Какова вероятность, что ни одна из них не перегорит в первый день? Какова вероятность, что перегорят ровно две?"
   ]
  },
  {
   "cell_type": "markdown",
   "metadata": {},
   "source": [
    "А - не перегорела ни одна лампочка\n"
   ]
  },
  {
   "cell_type": "markdown",
   "metadata": {},
   "source": [
    "$P(A) = 1 - q ^ n$"
   ]
  },
  {
   "cell_type": "code",
   "execution_count": 13,
   "metadata": {},
   "outputs": [
    {
     "name": "stdout",
     "output_type": "stream",
     "text": [
      "Вероятность того, что не перегорит ни одна лампочка = 0.865\n"
     ]
    }
   ],
   "source": [
    "P = 1 - (1 - 0.0004) ** 5000\n",
    "\n",
    "print(f'Вероятность того, что не перегорит ни одна лампочка = {P :.3f}')"
   ]
  },
  {
   "cell_type": "markdown",
   "metadata": {},
   "source": [
    "3. Монету подбросили 144 раза. Какова вероятность, что орел выпадет ровно 70 раз?"
   ]
  },
  {
   "cell_type": "markdown",
   "metadata": {},
   "source": [
    "А - монета выпала 40 раз\n",
    "\n",
    "- n = 144\n",
    "\n",
    "- k = 70\n",
    "\n",
    "- p = 0.5\n",
    "\n",
    "- q = 0.5"
   ]
  },
  {
   "cell_type": "markdown",
   "metadata": {},
   "source": [
    "$P_{144}(X=70) = C_{144}^{70} {0.5}^{70} {0.5}^{144-70} = $"
   ]
  },
  {
   "cell_type": "code",
   "execution_count": 17,
   "metadata": {},
   "outputs": [
    {
     "name": "stdout",
     "output_type": "stream",
     "text": [
      "Вероятность того, что орел выпадет ровно 70 раз = 0.0628\n"
     ]
    }
   ],
   "source": [
    "P144 = (fl(144) / (fl(70) * fl(144 - 70))) * 0.5 ** 70 * 0.5 ** (144 - 70)\n",
    "\n",
    "print(f'Вероятность того, что орел выпадет ровно 70 раз = {P144 :.4f}')"
   ]
  },
  {
   "cell_type": "markdown",
   "metadata": {},
   "source": [
    "4. В первом ящике находится 10 мячей, из которых 7 - белые. Во втором ящике - 11 мячей, из которых 9 белых. Из каждого ящика вытаскивают случайным образом по два мяча. Какова вероятность того, что все мячи белые? Какова вероятность того, что ровно два мяча белые? Какова вероятность того, что хотя бы один мяч белый?"
   ]
  },
  {
   "cell_type": "markdown",
   "metadata": {},
   "source": [
    "А1 - мячи, вынутые из первого ящика все белые\n",
    "\n",
    "А2 - мячи, вынутые из второго ящика все белые\n",
    "\n",
    "А = А1 * А2 - все мячи белые"
   ]
  },
  {
   "cell_type": "markdown",
   "metadata": {},
   "source": [
    "$P(A1) =  \\frac{C_{7}^{2}}{C_{10}^{2} }$\n",
    "\n",
    "$P(A2) =  \\frac{C_{9}^{2}}{C_{11}^{2} }$\n",
    "\n",
    "$P(A) = P(A1)*P(A2)$"
   ]
  },
  {
   "cell_type": "code",
   "execution_count": 19,
   "metadata": {},
   "outputs": [
    {
     "name": "stdout",
     "output_type": "stream",
     "text": [
      "Вероятность того, что все мячи белые = 0.305\n"
     ]
    }
   ],
   "source": [
    "PA1 = (fl(7) / (fl(2)*fl(7 - 2))) / (fl(10) / (fl(2)*fl(10 - 2)))\n",
    "PA2 = (fl(9) / (fl(2)*fl(9 - 2))) / (fl(11) / (fl(2)*fl(11 - 2)))\n",
    "print(f'Вероятность того, что все мячи белые = {PA1 * PA2 :.3f}')"
   ]
  },
  {
   "cell_type": "markdown",
   "metadata": {},
   "source": [
    "A11 - из первого ящика вынули два белых мяча\n",
    "\n",
    "А12 - из второго ящика вынули только черные мячи\n",
    "\n",
    "А21 - из второго ящика вынули два белых мяча\n",
    "\n",
    "А22 - из первого ящика вынули только черные мячи\n",
    "\n",
    "А31 - из первого ящика вынули один белый мячи\n",
    "\n",
    "А32 - из второго ящика вынули один белый мячи\n",
    "\n",
    "А = А11 * А12 + А21 * А22 + А31 * А32 - вынули ровно два белых мяча"
   ]
  },
  {
   "cell_type": "markdown",
   "metadata": {},
   "source": [
    "$P(A11) =  \\frac{C_{7}^{2}}{C_{10}^{2} }$\n",
    "\n",
    "$P(A12) =\\frac{C_{2}^{2}}{C_{11}^{2} }$"
   ]
  },
  {
   "cell_type": "code",
   "execution_count": 33,
   "metadata": {},
   "outputs": [],
   "source": [
    "PA11A12 =  (fl(7) / (fl(2)*fl(7 - 2))) / (fl(10) / (fl(2)*fl(10 - 2))) * (fl(2) / (fl(2)*fl(2 - 2))) / (fl(11) / (fl(2)*fl(11 - 2)))"
   ]
  },
  {
   "cell_type": "markdown",
   "metadata": {},
   "source": [
    "$P(A21) =\\frac{C_{3}^{2}}{C_{10}^{2} }$\n",
    "\n",
    "$P(A22) = \\frac{C_{9}^{2}}{C_{11}^{2} }$"
   ]
  },
  {
   "cell_type": "code",
   "execution_count": 34,
   "metadata": {},
   "outputs": [],
   "source": [
    "PA21A22 = (fl(3) / (fl(2)*fl(3 - 2))) / (fl(10) / (fl(2)*fl(10 - 2))) * (fl(9) / (fl(2)*fl(9 - 2))) / (fl(11) / (fl(2)*fl(11 - 2)))"
   ]
  },
  {
   "cell_type": "markdown",
   "metadata": {},
   "source": [
    "$P(A31) =  \\frac{C_{7}^{1} * C_{3}^{1}}{C_{10}^{2} }$\n",
    "\n",
    "$P(A33) =  \\frac{C_{9}^{1} * C_{2}^{1}}{C_{11}^{2} }$"
   ]
  },
  {
   "cell_type": "code",
   "execution_count": 35,
   "metadata": {},
   "outputs": [],
   "source": [
    "PA31 = (fl(7) / (fl(1)*fl(7 - 1)) * fl(3)) / (fl(1)*fl(3 - 1)) / (fl(10) / (fl(2)*fl(10 - 2))) \n",
    "PA32 = (fl(9) / (fl(1)*fl(9 - 1)) * fl(2)) / (fl(1)*fl(2 - 1)) / (fl(11) / (fl(2)*fl(11 - 2)))"
   ]
  },
  {
   "cell_type": "code",
   "execution_count": 36,
   "metadata": {},
   "outputs": [
    {
     "name": "stdout",
     "output_type": "stream",
     "text": [
      "Вероятность того, что вынут ровно два белых мяча = 0.205\n"
     ]
    }
   ],
   "source": [
    "PA = PA11A12 + PA21A22 + PA31 * PA32\n",
    "print(f'Вероятность того, что вынут ровно два белых мяча = {PA :.3f}')"
   ]
  },
  {
   "cell_type": "code",
   "execution_count": 32,
   "metadata": {},
   "outputs": [
    {
     "name": "stdout",
     "output_type": "stream",
     "text": [
      "Вероятность того, что вытянут хотя бы один белый мяч = 0.999\n"
     ]
    }
   ],
   "source": [
    "PA = 1 - (fl(3) / (fl(2)*fl(3 - 2))) / (fl(10) / (fl(2)*fl(10 - 2))) * (fl(2) / (fl(2)*fl(2 - 2))) / (fl(11) / (fl(2)*fl(11 - 2)))\n",
    "print(f'Вероятность того, что вытянут хотя бы один белый мяч = {PA :.3f}')"
   ]
  },
  {
   "cell_type": "code",
   "execution_count": null,
   "metadata": {},
   "outputs": [],
   "source": []
  }
 ],
 "metadata": {
  "kernelspec": {
   "display_name": "Python 3",
   "language": "python",
   "name": "python3"
  },
  "language_info": {
   "codemirror_mode": {
    "name": "ipython",
    "version": 3
   },
   "file_extension": ".py",
   "mimetype": "text/x-python",
   "name": "python",
   "nbconvert_exporter": "python",
   "pygments_lexer": "ipython3",
   "version": "3.7.1"
  }
 },
 "nbformat": 4,
 "nbformat_minor": 2
}
